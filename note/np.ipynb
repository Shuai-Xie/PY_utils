{
 "cells": [
  {
   "cell_type": "code",
   "execution_count": 3,
   "metadata": {
    "ExecuteTime": {
     "end_time": "2020-10-28T03:33:05.606284Z",
     "start_time": "2020-10-28T03:33:05.594617Z"
    },
    "scrolled": true
   },
   "outputs": [
    {
     "output_type": "stream",
     "name": "stdout",
     "text": [
      "[0 1 2]\n(3,)\n\n[0 1 2 0 1 2]\n(6,)\n\n[[0 1 2 0 1 2 0 1 2]\n [0 1 2 0 1 2 0 1 2]]\n(2, 9)\n\n[[[0 1 2 0 1 2]]\n\n [[0 1 2 0 1 2]]]\n(2, 1, 6)\n"
     ]
    }
   ],
   "source": [
    "import numpy as np\n",
    "\n",
    "a = np.array([0, 1, 2])\n",
    "print(a)\n",
    "print(a.shape)  # (3,)\n",
    "print()\n",
    "\n",
    "a1 = np.tile(a, 2)  # (1,3) * 2 = (1,6)\n",
    "print(a1)\n",
    "print(a1.shape)\n",
    "print()\n",
    "\n",
    "a2 = np.tile(a, (2, 3))  # 原来的矩阵 (1,3) * (2,3) = (2,9)\n",
    "print(a2)\n",
    "print(a2.shape)\n",
    "print()\n",
    "\n",
    "a3 = np.tile(a, (2, 1, 2))  # (1,3) * (2,1,2) = (2,1,6)\n",
    "print(a3)\n",
    "print(a3.shape)\n",
    "# 在看这个数组时，先将里面的6个数字看成是1个元素，就会发现是一个2行1列的二维矩阵\n"
   ]
  },
  {
   "cell_type": "code",
   "execution_count": 4,
   "metadata": {},
   "outputs": [
    {
     "name": "stdout",
     "output_type": "stream",
     "text": [
      "[[1 2]\n",
      " [3 4]]\n",
      "(2, 2)\n",
      "\n",
      "[[1 2 1 2]\n",
      " [3 4 3 4]]\n",
      "(2, 4)\n",
      "\n",
      "[[1 2 1 2 1 2]\n",
      " [3 4 3 4 3 4]\n",
      " [1 2 1 2 1 2]\n",
      " [3 4 3 4 3 4]]\n",
      "(4, 6)\n",
      "\n"
     ]
    }
   ],
   "source": [
    "b = np.array([[1, 2], [3, 4]])\n",
    "print(b)\n",
    "print(b.shape)\n",
    "print()\n",
    "\n",
    "b1 = np.tile(b, 2)  # (2,2) * 2 = (2,4)\n",
    "print(b1)\n",
    "print(b1.shape)\n",
    "print()\n",
    "\n",
    "b2 = np.tile(b, (2, 3))\n",
    "print(b2)\n",
    "print(b2.shape)\n",
    "print()\n"
   ]
  },
  {
   "cell_type": "code",
   "execution_count": 6,
   "metadata": {},
   "outputs": [
    {
     "name": "stdout",
     "output_type": "stream",
     "text": [
      "[[[0.86886451 0.1754806 ]\n",
      "  [0.54318192 0.82198344]\n",
      "  [0.81780523 0.48159153]]\n",
      "\n",
      " [[0.38114212 0.73231269]\n",
      "  [0.52186652 0.10138918]\n",
      "  [0.64180384 0.13325533]]]\n",
      "(2, 3, 2)\n",
      "\n",
      "[]\n",
      "\n",
      "[]\n",
      "\n"
     ]
    }
   ],
   "source": [
    "c = np.random.random((2, 3, 2))\n",
    "print(c)  # 从最外层的[]往里面看，一层一层去掉[]，2-2行，3-去掉最外层[]之后，数组是3行2列\n",
    "print(c.shape)\n",
    "print()\n",
    "\n",
    "# 测试非法状态\n",
    "c1 = np.tile(c, (0, 1, 1))\n",
    "print(c1)\n",
    "print()\n",
    "\n",
    "c2 = np.tile(c, (1, 0, 1))\n",
    "print(c2)\n",
    "print()"
   ]
  },
  {
   "cell_type": "code",
   "execution_count": 9,
   "metadata": {},
   "outputs": [
    {
     "data": {
      "text/plain": [
       "array([[[1.86886451, 1.1754806 ],\n",
       "        [1.54318192, 1.82198344],\n",
       "        [1.81780523, 1.48159153]],\n",
       "\n",
       "       [[1.38114212, 1.73231269],\n",
       "        [1.52186652, 1.10138918],\n",
       "        [1.64180384, 1.13325533]]])"
      ]
     },
     "execution_count": 9,
     "metadata": {},
     "output_type": "execute_result"
    }
   ],
   "source": [
    "c + 1  # 所有元素都增加 1"
   ]
  },
  {
   "cell_type": "code",
   "execution_count": 11,
   "metadata": {},
   "outputs": [
    {
     "ename": "TypeError",
     "evalue": "can't multiply sequence by non-int of type 'tuple'",
     "output_type": "error",
     "traceback": [
      "\u001b[1;31m---------------------------------------------------------------------------\u001b[0m",
      "\u001b[1;31mTypeError\u001b[0m                                 Traceback (most recent call last)",
      "\u001b[1;32m<ipython-input-11-f8062306772d>\u001b[0m in \u001b[0;36m<module>\u001b[1;34m()\u001b[0m\n\u001b[0;32m      1\u001b[0m \u001b[0ma\u001b[0m \u001b[1;33m=\u001b[0m \u001b[1;33m(\u001b[0m\u001b[1;36m1\u001b[0m\u001b[1;33m,\u001b[0m \u001b[1;36m2\u001b[0m \u001b[1;33m,\u001b[0m\u001b[1;36m3\u001b[0m\u001b[1;33m)\u001b[0m\u001b[1;33m\u001b[0m\u001b[0m\n\u001b[0;32m      2\u001b[0m \u001b[0mb\u001b[0m \u001b[1;33m=\u001b[0m \u001b[1;33m(\u001b[0m\u001b[1;36m2\u001b[0m\u001b[1;33m,\u001b[0m \u001b[1;36m2\u001b[0m\u001b[1;33m,\u001b[0m \u001b[1;36m2\u001b[0m\u001b[1;33m)\u001b[0m\u001b[1;33m\u001b[0m\u001b[0m\n\u001b[1;32m----> 3\u001b[1;33m \u001b[0mprint\u001b[0m\u001b[1;33m(\u001b[0m\u001b[0ma\u001b[0m\u001b[1;33m*\u001b[0m\u001b[0mb\u001b[0m\u001b[1;33m)\u001b[0m\u001b[1;33m\u001b[0m\u001b[0m\n\u001b[0m",
      "\u001b[1;31mTypeError\u001b[0m: can't multiply sequence by non-int of type 'tuple'"
     ]
    }
   ],
   "source": [
    "a = (1, 2, 3)\n",
    "b = (2, 2, 2)\n",
    "print(a*b)  # tuple元素不能直接相乘"
   ]
  },
  {
   "cell_type": "code",
   "execution_count": 18,
   "metadata": {},
   "outputs": [
    {
     "name": "stdout",
     "output_type": "stream",
     "text": [
      "<zip object at 0x000001F3FFE3AB88>\n",
      "(1, 2),(2, 2),(3, 2),"
     ]
    }
   ],
   "source": [
    "print(zip(a,b))  # 得到是 zip object\n",
    "for e in zip(a,b):\n",
    "    print(e, end=',')"
   ]
  },
  {
   "cell_type": "code",
   "execution_count": 24,
   "metadata": {},
   "outputs": [
    {
     "name": "stdout",
     "output_type": "stream",
     "text": [
      "[2, 4, 6]\n"
     ]
    }
   ],
   "source": [
    "# 使用 list 生成式 实现 tuple 相加 相乘\n",
    "l = [x * y for x, y in zip(a, b)]\n",
    "print(l)"
   ]
  },
  {
   "cell_type": "code",
   "execution_count": 27,
   "metadata": {},
   "outputs": [
    {
     "data": {
      "text/plain": [
       "[2, 4, 6]"
      ]
     },
     "execution_count": 27,
     "metadata": {},
     "output_type": "execute_result"
    }
   ],
   "source": [
    "# 使用 map 和 zip 组合 实现 tuple 相加 相乘\n",
    "# lambda 函数 映射到 zip 组成的元组上, python3把 lambda函数后面的 () 去掉了\n",
    "list(map(lambda t: t[0]*t[1], zip(a, b)))"
   ]
  },
  {
   "cell_type": "code",
   "execution_count": 29,
   "metadata": {},
   "outputs": [
    {
     "name": "stdout",
     "output_type": "stream",
     "text": [
      "[[[ 96 182 232]\n",
      "  [185  26 197]]\n",
      "\n",
      " [[186  19  80]\n",
      "  [  5 195  42]]]\n"
     ]
    }
   ],
   "source": [
    "a = np.random.randint(256, size=(2,2,3))  # 随机生成 2*2*3通道 的图\n",
    "print(a)"
   ]
  },
  {
   "cell_type": "code",
   "execution_count": 30,
   "metadata": {},
   "outputs": [
    {
     "data": {
      "text/plain": [
       "array([[[ 96, 182, 232],\n",
       "        [185,  26, 197]],\n",
       "\n",
       "       [[186,  19,  80],\n",
       "        [  5, 195,  42]]])"
      ]
     },
     "execution_count": 30,
     "metadata": {},
     "output_type": "execute_result"
    }
   ],
   "source": [
    "a[...]  # 输出所有元素"
   ]
  },
  {
   "cell_type": "code",
   "execution_count": 34,
   "metadata": {},
   "outputs": [
    {
     "name": "stdout",
     "output_type": "stream",
     "text": [
      "(2, 2, 3, 1)\n",
      "[[[[ 96]\n",
      "   [182]\n",
      "   [232]]\n",
      "\n",
      "  [[185]\n",
      "   [ 26]\n",
      "   [197]]]\n",
      "\n",
      "\n",
      " [[[186]\n",
      "   [ 19]\n",
      "   [ 80]]\n",
      "\n",
      "  [[  5]\n",
      "   [195]\n",
      "   [ 42]]]]\n",
      "96\n",
      "26\n"
     ]
    }
   ],
   "source": [
    "b = a[:, :, :, np.newaxis]  # 增加 1维，如果是对图像处理，相当于把 rgb 分开到单个1维数组中\n",
    "print(b.shape)\n",
    "print(b)\n",
    "print(b[0][0][0][0])\n",
    "print(b[0][1][1][0])"
   ]
  },
  {
   "cell_type": "code",
   "execution_count": 35,
   "metadata": {},
   "outputs": [
    {
     "name": "stdout",
     "output_type": "stream",
     "text": [
      "(1, 3, 2, 2)\n",
      "[[[[ 96 185]\n",
      "   [186   5]]\n",
      "\n",
      "  [[182  26]\n",
      "   [ 19 195]]\n",
      "\n",
      "  [[232 197]\n",
      "   [ 80  42]]]]\n"
     ]
    }
   ],
   "source": [
    "c = np.transpose(b, axes=(3,2,0,1)) # 序列改变 permute the dimensions of an array\n",
    "print(c.shape)\n",
    "print(c)\n",
    "# axes=(3,2,0,1) 现在的 第0维 是原来的 第3维\n",
    "# 原始 shape: (2, 2, 3, 1) shape变换过程\n",
    "# 0 -> 3 -> 1\n",
    "# 1 -> 2 -> 3\n",
    "# 2 -> 0 -> 2\n",
    "# 3 -> 1 -> 2"
   ]
  },
  {
   "cell_type": "code",
   "execution_count": 36,
   "metadata": {},
   "outputs": [
    {
     "name": "stdout",
     "output_type": "stream",
     "text": [
      "(2, 3)\n",
      "[[6 4 1]\n",
      " [1 7 1]]\n",
      "\n",
      "(3, 2)\n",
      "[[6 1]\n",
      " [4 7]\n",
      " [1 1]]\n"
     ]
    }
   ],
   "source": [
    "x = np.random.randint(10, size=(2,3))\n",
    "print(x.shape)\n",
    "print(x)\n",
    "print()\n",
    "\n",
    "# 使用 transpose 实现 矩阵转置（行列交换）\n",
    "y = np.transpose(x, axes=(1,0))\n",
    "print(y.shape)\n",
    "print(y)"
   ]
  },
  {
   "cell_type": "code",
   "execution_count": 37,
   "metadata": {},
   "outputs": [
    {
     "data": {
      "text/plain": [
       "array([0.53673722, 0.54589141, 0.57382218, 0.58457955, 0.53422075,\n",
       "       0.53322909, 0.81818892, 0.86173078, 0.91778074, 0.50944696])"
      ]
     },
     "execution_count": 37,
     "metadata": {},
     "output_type": "execute_result"
    }
   ],
   "source": [
    "np.random.uniform(0.5, 1.0, 10)  # 从随机分布的 [0.5, 1.0) 中随机抽取 10 个数"
   ]
  },
  {
   "cell_type": "code",
   "execution_count": 51,
   "metadata": {},
   "outputs": [
    {
     "name": "stdout",
     "output_type": "stream",
     "text": [
      "[0.  0.2 0.4 0.6 0.8 1. ]\n",
      "[0.  0.5 1. ]\n",
      "\n",
      "xv1\n",
      " [[0.  0.2 0.4 0.6 0.8 1. ]\n",
      " [0.  0.2 0.4 0.6 0.8 1. ]\n",
      " [0.  0.2 0.4 0.6 0.8 1. ]]\n",
      "yv1\n",
      " [[0.  0.  0.  0.  0.  0. ]\n",
      " [0.5 0.5 0.5 0.5 0.5 0.5]\n",
      " [1.  1.  1.  1.  1.  1. ]]\n",
      "\n",
      "xv2\n",
      " [[0.  0.2 0.4 0.6 0.8 1. ]]\n",
      "yv2\n",
      " [[0. ]\n",
      " [0.5]\n",
      " [1. ]]\n",
      "\n"
     ]
    },
    {
     "data": {
      "image/png": "[encoded data removed]",
      "text/plain": [
       "<Figure size 432x288 with 2 Axes>"
      ]
     },
     "metadata": {},
     "output_type": "display_data"
    }
   ],
   "source": [
    "nx, ny = (6, 3)\n",
    "x = np.linspace(0, 1, nx)  # 均匀插点\n",
    "y = np.linspace(0, 1, ny)\n",
    "print(x)\n",
    "print(y)\n",
    "print()\n",
    "\n",
    "# x,y 坐标点形成 网格\n",
    "xv1, yv1 = np.meshgrid(x, y)\n",
    "print('xv1\\n', xv1)\n",
    "print('yv1\\n', yv1)\n",
    "print()\n",
    "\n",
    "xv2, yv2 = np.meshgrid(x, y, sparse=True)  # make sparse output arrays\n",
    "print('xv2\\n', xv2)\n",
    "print('yv2\\n', yv2)\n",
    "print()\n",
    "\n",
    "import pylab as plt\n",
    "\n",
    "fig, ax = plt.subplots(nrows=1, ncols=2)\n",
    "\n",
    "plt.subplot(121)\n",
    "plt.scatter(xv1, yv1)\n",
    "\n",
    "plt.subplot(122)\n",
    "# plt.plot(xv2, yv2) # shape不同，不能作图\n",
    "\n",
    "plt.show()\n"
   ]
  },
  {
   "cell_type": "code",
   "execution_count": 52,
   "metadata": {},
   "outputs": [
    {
     "data": {
      "text/plain": [
       "array([-1.  , -0.75, -0.5 , -0.25,  0.  ,  0.25,  0.5 ,  0.75])"
      ]
     },
     "execution_count": 52,
     "metadata": {},
     "output_type": "execute_result"
    }
   ],
   "source": [
    "np.arange(-1, 1, step=0.25)"
   ]
  },
  {
   "cell_type": "code",
   "execution_count": 55,
   "metadata": {},
   "outputs": [
    {
     "name": "stdout",
     "output_type": "stream",
     "text": [
      "[[3 4]\n",
      " [6 8]]\n",
      "11\n"
     ]
    }
   ],
   "source": [
    "# 向量相乘\n",
    "a = [1, 2]\n",
    "b = [3, 4]\n",
    "print(np.outer(a, b)) # 外积（笛卡尔乘积）所有元素分别相乘\n",
    "print(np.dot(a, b)) # 内积（点乘）"
   ]
  },
  {
   "cell_type": "code",
   "execution_count": 64,
   "metadata": {},
   "outputs": [
    {
     "name": "stdout",
     "output_type": "stream",
     "text": [
      "<class 'numpy.matrixlib.defmatrix.matrix'>\n",
      "[[11]]\n",
      "\n",
      "[[7 1 8]\n",
      " [8 0 5]]\n",
      "[[7 8]\n",
      " [1 0]\n",
      " [8 5]]\n",
      "\n",
      "[[114  96]\n",
      " [ 96  89]]\n"
     ]
    }
   ],
   "source": [
    "# 矩阵相乘\n",
    "a = np.matrix([1, 2]) # 1x2\n",
    "b = np.matrix([[3],[4]]) # 2x1\n",
    "print(type(a))\n",
    "print(a*b) # a b 相乘 得 1x1 矩阵  * 是 element-wise 相乘\n",
    "print()\n",
    "\n",
    "a = np.random.randint(10, size=(2,3))\n",
    "print(a)\n",
    "aT = np.transpose(a)\n",
    "print(aT)\n",
    "print()\n",
    "print(np.dot(a,aT))"
   ]
  },
  {
   "cell_type": "code",
   "execution_count": 65,
   "metadata": {},
   "outputs": [
    {
     "name": "stdout",
     "output_type": "stream",
     "text": [
      "[[1 2 3]\n",
      " [4 5 6]\n",
      " [7 8 9]]\n"
     ]
    }
   ],
   "source": [
    "a = np.arange(1, 10).reshape((3, 3))\n",
    "print(a)"
   ]
  },
  {
   "cell_type": "code",
   "execution_count": 66,
   "metadata": {},
   "outputs": [
    {
     "data": {
      "text/plain": [
       "array([[ 30,  36,  42],\n",
       "       [ 66,  81,  96],\n",
       "       [102, 126, 150]])"
      ]
     },
     "execution_count": 66,
     "metadata": {},
     "output_type": "execute_result"
    }
   ],
   "source": [
    "np.dot(a, a)"
   ]
  },
  {
   "cell_type": "code",
   "execution_count": 67,
   "metadata": {},
   "outputs": [
    {
     "data": {
      "text/plain": [
       "array([[ 1,  2,  3,  4,  5,  6,  7,  8,  9],\n",
       "       [ 2,  4,  6,  8, 10, 12, 14, 16, 18],\n",
       "       [ 3,  6,  9, 12, 15, 18, 21, 24, 27],\n",
       "       [ 4,  8, 12, 16, 20, 24, 28, 32, 36],\n",
       "       [ 5, 10, 15, 20, 25, 30, 35, 40, 45],\n",
       "       [ 6, 12, 18, 24, 30, 36, 42, 48, 54],\n",
       "       [ 7, 14, 21, 28, 35, 42, 49, 56, 63],\n",
       "       [ 8, 16, 24, 32, 40, 48, 56, 64, 72],\n",
       "       [ 9, 18, 27, 36, 45, 54, 63, 72, 81]])"
      ]
     },
     "execution_count": 67,
     "metadata": {},
     "output_type": "execute_result"
    }
   ],
   "source": [
    "np.outer(a, a)  # 相当于把 a 摊平 再乘"
   ]
  },
  {
   "cell_type": "code",
   "execution_count": 69,
   "metadata": {},
   "outputs": [
    {
     "name": "stdout",
     "output_type": "stream",
     "text": [
      "3.0 1.0\n"
     ]
    }
   ],
   "source": [
    "# 解线性方程\n",
    "# x + y = 4\n",
    "# 2x + 3y = 9\n",
    "a = [[1, 1],\n",
    "     [2, 3]]\n",
    "b = [4, 9]\n",
    "x, y = np.linalg.solve(a, b)\n",
    "\n",
    "print(x, y)"
   ]
  },
  {
   "cell_type": "code",
   "execution_count": 72,
   "metadata": {},
   "outputs": [
    {
     "name": "stdout",
     "output_type": "stream",
     "text": [
      "[1 2 3 4 5 6 7 8 9]\n",
      "[ True  True  True  True False False False False False]\n",
      "[-- -- -- -- 5 6 7 8 9]\n"
     ]
    }
   ],
   "source": [
    "# 掩码数组\n",
    "from numpy import ma\n",
    "\n",
    "x = np.arange(1, 10)\n",
    "m = x < 5\n",
    "mx = ma.array(x, mask=x<5)  # 掩码数组，被 masked 可以设置其无效\n",
    "print(x)\n",
    "print(m)\n",
    "print(mx)"
   ]
  },
  {
   "cell_type": "code",
   "execution_count": 73,
   "metadata": {},
   "outputs": [
    {
     "data": {
      "text/plain": [
       "array([[  1,   2,   3,   4,   5,   6,   7,   8,   9,  10],\n",
       "       [ 11,  12,  13,  14,  15,  16,  17,  18,  19,  20],\n",
       "       [ 21,  22,  23,  24,  25,  26,  27,  28,  29,  30],\n",
       "       [ 31,  32,  33,  34,  35,  36,  37,  38,  39,  40],\n",
       "       [ 41,  42,  43,  44,  45,  46,  47,  48,  49,  50],\n",
       "       [ 51,  52,  53,  54,  55,  56,  57,  58,  59,  60],\n",
       "       [ 61,  62,  63,  64,  65,  66,  67,  68,  69,  70],\n",
       "       [ 71,  72,  73,  74,  75,  76,  77,  78,  79,  80],\n",
       "       [ 81,  82,  83,  84,  85,  86,  87,  88,  89,  90],\n",
       "       [ 91,  92,  93,  94,  95,  96,  97,  98,  99, 100]])"
      ]
     },
     "execution_count": 73,
     "metadata": {},
     "output_type": "execute_result"
    }
   ],
   "source": [
    "a = np.arange(1, 101).reshape((10, 10))\n",
    "a"
   ]
  },
  {
   "cell_type": "code",
   "execution_count": 78,
   "metadata": {},
   "outputs": [
    {
     "data": {
      "text/plain": [
       "array([[ 1,  2,  3,  4,  5,  6,  7,  8,  9, 10],\n",
       "       [51, 52, 53, 54, 55, 56, 57, 58, 59, 60]])"
      ]
     },
     "execution_count": 78,
     "metadata": {},
     "output_type": "execute_result"
    }
   ],
   "source": [
    "a[::5]  # 行步长为5 未指定列 等价于 a[::5,:]"
   ]
  },
  {
   "cell_type": "code",
   "execution_count": 79,
   "metadata": {},
   "outputs": [
    {
     "data": {
      "text/plain": [
       "array([[ 1,  2,  3,  4,  5,  6,  7,  8,  9, 10],\n",
       "       [11, 12, 13, 14, 15, 16, 17, 18, 19, 20],\n",
       "       [21, 22, 23, 24, 25, 26, 27, 28, 29, 30],\n",
       "       [31, 32, 33, 34, 35, 36, 37, 38, 39, 40],\n",
       "       [41, 42, 43, 44, 45, 46, 47, 48, 49, 50]])"
      ]
     },
     "execution_count": 79,
     "metadata": {},
     "output_type": "execute_result"
    }
   ],
   "source": [
    "a[:5:]  # [0,5)行 所有列"
   ]
  },
  {
   "cell_type": "code",
   "execution_count": 80,
   "metadata": {},
   "outputs": [
    {
     "data": {
      "text/plain": [
       "array([[ 1,  6],\n",
       "       [11, 16],\n",
       "       [21, 26],\n",
       "       [31, 36],\n",
       "       [41, 46],\n",
       "       [51, 56],\n",
       "       [61, 66],\n",
       "       [71, 76],\n",
       "       [81, 86],\n",
       "       [91, 96]])"
      ]
     },
     "execution_count": 80,
     "metadata": {},
     "output_type": "execute_result"
    }
   ],
   "source": [
    "a[:, ::5]  # 所有行，列步长 5"
   ]
  },
  {
   "cell_type": "code",
   "execution_count": 81,
   "metadata": {},
   "outputs": [
    {
     "data": {
      "text/plain": [
       "array([[  1,   2,   3,   4,   5,   6,   7,   8,   9,  10],\n",
       "       [ 11,  12,  13,  14,  15,  16,  17,  18,  19,  20],\n",
       "       [ 21,  22,  23,  24,  25,  26,  27,  28,  29,  30],\n",
       "       [ 31,  32,  33,  34,  35,  36,  37,  38,  39,  40],\n",
       "       [ 41,  42,  43,  44,  45,  46,  47,  48,  49,  50],\n",
       "       [ 51,  52,  53,  54,  55,  56,  57,  58,  59,  60],\n",
       "       [ 61,  62,  63,  64,  65,  66,  67,  68,  69,  70],\n",
       "       [ 71,  72,  73,  74,  75,  76,  77,  78,  79,  80],\n",
       "       [ 81,  82,  83,  84,  85,  86,  87,  88,  89,  90],\n",
       "       [ 91,  92,  93,  94,  95,  96,  97,  98,  99, 100]])"
      ]
     },
     "execution_count": 81,
     "metadata": {},
     "output_type": "execute_result"
    }
   ],
   "source": [
    "a"
   ]
  },
  {
   "cell_type": "code",
   "execution_count": 82,
   "metadata": {},
   "outputs": [
    {
     "data": {
      "text/plain": [
       "array([[ 1,  2,  3,  4,  5,  6,  7,  8,  9, 10],\n",
       "       [11, 12, 13, 14, 15, 16, 17, 18, 19, 20],\n",
       "       [21, 22, 23, 24, 25, 26, 27, 28, 29, 30],\n",
       "       [31, 32, 33, 34, 35, 36, 37, 38, 39, 40],\n",
       "       [41, 42, 43, 44, 45, 46, 47, 48, 49, 50],\n",
       "       [51, 52, 53, 54, 55, 56, 57, 58, 59, 60],\n",
       "       [61, 62, 63, 64, 65, 66, 67, 68, 69, 70],\n",
       "       [71, 72, 73, 74, 75, 76, 77, 78, 79, 80],\n",
       "       [81, 82, 83, 84, 85, 86, 87, 88, 89, 90]])"
      ]
     },
     "execution_count": 82,
     "metadata": {},
     "output_type": "execute_result"
    }
   ],
   "source": [
    "a[:-1]  # 倒数第2行终止\n"
   ]
  },
  {
   "cell_type": "code",
   "execution_count": 83,
   "metadata": {},
   "outputs": [
    {
     "data": {
      "text/plain": [
       "array([[100,  99,  98,  97,  96,  95,  94,  93,  92,  91],\n",
       "       [ 90,  89,  88,  87,  86,  85,  84,  83,  82,  81],\n",
       "       [ 80,  79,  78,  77,  76,  75,  74,  73,  72,  71],\n",
       "       [ 70,  69,  68,  67,  66,  65,  64,  63,  62,  61],\n",
       "       [ 60,  59,  58,  57,  56,  55,  54,  53,  52,  51],\n",
       "       [ 50,  49,  48,  47,  46,  45,  44,  43,  42,  41],\n",
       "       [ 40,  39,  38,  37,  36,  35,  34,  33,  32,  31],\n",
       "       [ 30,  29,  28,  27,  26,  25,  24,  23,  22,  21],\n",
       "       [ 20,  19,  18,  17,  16,  15,  14,  13,  12,  11],\n",
       "       [ 10,   9,   8,   7,   6,   5,   4,   3,   2,   1]])"
      ]
     },
     "execution_count": 83,
     "metadata": {},
     "output_type": "execute_result"
    }
   ],
   "source": [
    "# 逆序 a\n",
    "a[::-1, ::-1]"
   ]
  },
  {
   "cell_type": "code",
   "execution_count": 84,
   "metadata": {},
   "outputs": [
    {
     "data": {
      "text/plain": [
       "array([[100,   2,   3,   4,   5,   6,   7,   8,   9,  10],\n",
       "       [ 11, 100,  13,  14,  15,  16,  17,  18,  19,  20],\n",
       "       [ 21,  22, 100,  24,  25,  26,  27,  28,  29,  30],\n",
       "       [ 31,  32,  33, 100,  35,  36,  37,  38,  39,  40],\n",
       "       [ 41,  42,  43,  44, 100,  46,  47,  48,  49,  50],\n",
       "       [ 51,  52,  53,  54,  55, 100,  57,  58,  59,  60],\n",
       "       [ 61,  62,  63,  64,  65,  66, 100,  68,  69,  70],\n",
       "       [ 71,  72,  73,  74,  75,  76,  77, 100,  79,  80],\n",
       "       [ 81,  82,  83,  84,  85,  86,  87,  88, 100,  90],\n",
       "       [ 91,  92,  93,  94,  95,  96,  97,  98,  99, 100]])"
      ]
     },
     "execution_count": 84,
     "metadata": {},
     "output_type": "execute_result"
    }
   ],
   "source": [
    "map = np.array([\n",
    "    [100, 2, 3, 4, 5, 6, 7, 8, 9, 10],\n",
    "    [11, 100, 13, 14, 15, 16, 17, 18, 19, 20],\n",
    "    [21, 22, 100, 24, 25, 26, 27, 28, 29, 30],\n",
    "    [31, 32, 33, 100, 35, 36, 37, 38, 39, 40],\n",
    "    [41, 42, 43, 44, 100, 46, 47, 48, 49, 50],\n",
    "    [51, 52, 53, 54, 55, 100, 57, 58, 59, 60],\n",
    "    [61, 62, 63, 64, 65, 66, 100, 68, 69, 70],\n",
    "    [71, 72, 73, 74, 75, 76, 77, 100, 79, 80],\n",
    "    [81, 82, 83, 84, 85, 86, 87, 88, 100, 90],\n",
    "    [91, 92, 93, 94, 95, 96, 97, 98, 99, 100]\n",
    "])\n",
    "map\n"
   ]
  },
  {
   "cell_type": "code",
   "execution_count": 70,
   "metadata": {},
   "outputs": [
    {
     "data": {
      "text/plain": [
       "array([[  0.,   0.,   0.,   0.,   0.,   0.,   0.,   0.,   0.,   0.],\n",
       "       [100.,   2.,   3.,   4.,   5.,   6.,   7.,   8.,   9.,  10.],\n",
       "       [ 11., 100.,  13.,  14.,  15.,  16.,  17.,  18.,  19.,  20.],\n",
       "       [ 21.,  22., 100.,  24.,  25.,  26.,  27.,  28.,  29.,  30.],\n",
       "       [ 31.,  32.,  33., 100.,  35.,  36.,  37.,  38.,  39.,  40.],\n",
       "       [ 41.,  42.,  43.,  44., 100.,  46.,  47.,  48.,  49.,  50.],\n",
       "       [ 51.,  52.,  53.,  54.,  55., 100.,  57.,  58.,  59.,  60.],\n",
       "       [ 61.,  62.,  63.,  64.,  65.,  66., 100.,  68.,  69.,  70.],\n",
       "       [ 71.,  72.,  73.,  74.,  75.,  76.,  77., 100.,  79.,  80.],\n",
       "       [ 81.,  82.,  83.,  84.,  85.,  86.,  87.,  88., 100.,  90.]])"
      ]
     },
     "execution_count": 70,
     "metadata": {},
     "output_type": "execute_result"
    }
   ],
   "source": [
    "# 左边 \n",
    "map_left = np.zeros(map.shape)  # (10,10)\n",
    "map_left[1:, :] = map[:-1, :]  # 后9行 = 前9行\n",
    "map_left\n"
   ]
  },
  {
   "cell_type": "code",
   "execution_count": 71,
   "metadata": {},
   "outputs": [
    {
     "data": {
      "text/plain": [
       "array([[ 11., 100.,  13.,  14.,  15.,  16.,  17.,  18.,  19.,  20.],\n",
       "       [ 21.,  22., 100.,  24.,  25.,  26.,  27.,  28.,  29.,  30.],\n",
       "       [ 31.,  32.,  33., 100.,  35.,  36.,  37.,  38.,  39.,  40.],\n",
       "       [ 41.,  42.,  43.,  44., 100.,  46.,  47.,  48.,  49.,  50.],\n",
       "       [ 51.,  52.,  53.,  54.,  55., 100.,  57.,  58.,  59.,  60.],\n",
       "       [ 61.,  62.,  63.,  64.,  65.,  66., 100.,  68.,  69.,  70.],\n",
       "       [ 71.,  72.,  73.,  74.,  75.,  76.,  77., 100.,  79.,  80.],\n",
       "       [ 81.,  82.,  83.,  84.,  85.,  86.,  87.,  88., 100.,  90.],\n",
       "       [ 91.,  92.,  93.,  94.,  95.,  96.,  97.,  98.,  99., 100.],\n",
       "       [  0.,   0.,   0.,   0.,   0.,   0.,   0.,   0.,   0.,   0.]])"
      ]
     },
     "execution_count": 71,
     "metadata": {},
     "output_type": "execute_result"
    }
   ],
   "source": [
    "# 右边 \n",
    "map_right = np.zeros(map.shape)\n",
    "map_right[:-1, :] = map[1:, :] # 前9行 = 后9行\n",
    "map_right"
   ]
  },
  {
   "cell_type": "code",
   "execution_count": 72,
   "metadata": {},
   "outputs": [
    {
     "data": {
      "text/plain": [
       "array([[  0., 100.,   2.,   3.,   4.,   5.,   6.,   7.,   8.,   9.],\n",
       "       [  0.,  11., 100.,  13.,  14.,  15.,  16.,  17.,  18.,  19.],\n",
       "       [  0.,  21.,  22., 100.,  24.,  25.,  26.,  27.,  28.,  29.],\n",
       "       [  0.,  31.,  32.,  33., 100.,  35.,  36.,  37.,  38.,  39.],\n",
       "       [  0.,  41.,  42.,  43.,  44., 100.,  46.,  47.,  48.,  49.],\n",
       "       [  0.,  51.,  52.,  53.,  54.,  55., 100.,  57.,  58.,  59.],\n",
       "       [  0.,  61.,  62.,  63.,  64.,  65.,  66., 100.,  68.,  69.],\n",
       "       [  0.,  71.,  72.,  73.,  74.,  75.,  76.,  77., 100.,  79.],\n",
       "       [  0.,  81.,  82.,  83.,  84.,  85.,  86.,  87.,  88., 100.],\n",
       "       [  0.,  91.,  92.,  93.,  94.,  95.,  96.,  97.,  98.,  99.]])"
      ]
     },
     "execution_count": 72,
     "metadata": {},
     "output_type": "execute_result"
    }
   ],
   "source": [
    "# 上边\n",
    "map_up = np.zeros(map.shape)\n",
    "map_up[:, 1:] = map[:, :-1]  # 后9列 = 前9列\n",
    "map_up\n"
   ]
  },
  {
   "cell_type": "code",
   "execution_count": 73,
   "metadata": {},
   "outputs": [
    {
     "data": {
      "text/plain": [
       "array([[  2.,   3.,   4.,   5.,   6.,   7.,   8.,   9.,  10.,   0.],\n",
       "       [100.,  13.,  14.,  15.,  16.,  17.,  18.,  19.,  20.,   0.],\n",
       "       [ 22., 100.,  24.,  25.,  26.,  27.,  28.,  29.,  30.,   0.],\n",
       "       [ 32.,  33., 100.,  35.,  36.,  37.,  38.,  39.,  40.,   0.],\n",
       "       [ 42.,  43.,  44., 100.,  46.,  47.,  48.,  49.,  50.,   0.],\n",
       "       [ 52.,  53.,  54.,  55., 100.,  57.,  58.,  59.,  60.,   0.],\n",
       "       [ 62.,  63.,  64.,  65.,  66., 100.,  68.,  69.,  70.,   0.],\n",
       "       [ 72.,  73.,  74.,  75.,  76.,  77., 100.,  79.,  80.,   0.],\n",
       "       [ 82.,  83.,  84.,  85.,  86.,  87.,  88., 100.,  90.,   0.],\n",
       "       [ 92.,  93.,  94.,  95.,  96.,  97.,  98.,  99., 100.,   0.]])"
      ]
     },
     "execution_count": 73,
     "metadata": {},
     "output_type": "execute_result"
    }
   ],
   "source": [
    "# 下边\n",
    "map_down = np.zeros(map.shape)\n",
    "map_down[:, :-1] = map[:, 1:]  # 前9列 = 后9列\n",
    "map_down\n"
   ]
  },
  {
   "cell_type": "code",
   "execution_count": 74,
   "metadata": {},
   "outputs": [
    {
     "name": "stdout",
     "output_type": "stream",
     "text": [
      "(array([0, 1, 2, 3, 4, 5, 6, 7, 8, 9]), array([0, 1, 2, 3, 4, 5, 6, 7, 8, 9]))\n",
      "[0 1 2 3 4 5 6 7 8 9]\n",
      "[0 1 2 3 4 5 6 7 8 9]\n"
     ]
    }
   ],
   "source": [
    "peaks_binary = np.logical_and.reduce(\n",
    "        (map >= map_left, map >= map_right, map >= map_up, map >= map_down))\n",
    "print peaks_binary\n"
   ]
  },
  {
   "cell_type": "code",
   "execution_count": 75,
   "metadata": {},
   "outputs": [
    {
     "name": "stdout",
     "output_type": "stream",
     "text": [
      "(array([0, 1, 2, 3, 4, 5, 6, 7, 8, 9]), array([0, 1, 2, 3, 4, 5, 6, 7, 8, 9]))\n",
      "[0 1 2 3 4 5 6 7 8 9]\n",
      "[0 1 2 3 4 5 6 7 8 9]\n"
     ]
    }
   ],
   "source": [
    "a = np.nonzero(peaks_binary)  # tuple 类型，每个元素是 ndarray\n",
    "print a\n",
    "print a[0]\n",
    "print a[1]\n"
   ]
  },
  {
   "cell_type": "code",
   "execution_count": 76,
   "metadata": {},
   "outputs": [
    {
     "name": "stdout",
     "output_type": "stream",
     "text": [
      "[(0, 0), (1, 1), (2, 2), (3, 3), (4, 4), (5, 5), (6, 6), (7, 7), (8, 8), (9, 9)]\n"
     ]
    }
   ],
   "source": [
    "peaks = zip(np.nonzero(peaks_binary)[0], np.nonzero(peaks_binary)[1])\n",
    "print peaks  # 得到 map 中最大值的坐标\n"
   ]
  },
  {
   "cell_type": "code",
   "execution_count": 77,
   "metadata": {},
   "outputs": [
    {
     "name": "stdout",
     "output_type": "stream",
     "text": [
      "[(0, 0, 100), (1, 1, 100), (2, 2, 100), (3, 3, 100), (4, 4, 100), (5, 5, 100), (6, 6, 100), (7, 7, 100), (8, 8, 100), (9, 9, 100)]\n"
     ]
    }
   ],
   "source": [
    "peaks_with_score = [p + (map[p[1], p[0]],) for p in peaks]\n",
    "print peaks_with_score\n"
   ]
  },
  {
   "cell_type": "code",
   "execution_count": 78,
   "metadata": {},
   "outputs": [
    {
     "name": "stdout",
     "output_type": "stream",
     "text": [
      "[(0, 0, 100, 0), (1, 1, 100, 1), (2, 2, 100, 2), (3, 3, 100, 3), (4, 4, 100, 4), (5, 5, 100, 5), (6, 6, 100, 6), (7, 7, 100, 7), (8, 8, 100, 8), (9, 9, 100, 9)]\n"
     ]
    }
   ],
   "source": [
    "id = range(len(peaks))\n",
    "peaks_with_score_and_id = [peaks_with_score[i] + (id[i],) for i in range(len(id))]\n",
    "print peaks_with_score_and_id\n"
   ]
  },
  {
   "cell_type": "code",
   "execution_count": 89,
   "metadata": {},
   "outputs": [
    {
     "name": "stdout",
     "output_type": "stream",
     "text": [
      "[-2 -2 -1]\n"
     ]
    }
   ],
   "source": [
    "a = (2, 2, 1)\n",
    "b = (0, 0, 0)\n",
    "vec = np.subtract(b, a)\n",
    "print vec\n"
   ]
  },
  {
   "cell_type": "code",
   "execution_count": 91,
   "metadata": {},
   "outputs": [
    {
     "name": "stdout",
     "output_type": "stream",
     "text": [
      "[-0.66666667 -0.66666667 -0.33333333]\n"
     ]
    }
   ],
   "source": [
    "import math\n",
    "\n",
    "# 向量求模 并 归一化\n",
    "norm = math.sqrt(vec[0] * vec[0] + vec[1] * vec[1] + vec[2] * vec[2])\n",
    "vec = np.divide(vec, norm)  # 除以 模 归一化\n",
    "\n",
    "print vec\n"
   ]
  },
  {
   "cell_type": "code",
   "execution_count": 94,
   "metadata": {},
   "outputs": [
    {
     "name": "stdout",
     "output_type": "stream",
     "text": [
      "1\n"
     ]
    }
   ],
   "source": [
    "all = [(1, 2), (3, 4)]\n",
    "a = all[1]\n",
    "print len((a,))\n"
   ]
  },
  {
   "cell_type": "code",
   "execution_count": 95,
   "metadata": {},
   "outputs": [
    {
     "data": {
      "text/plain": [
       "array([0.        , 0.11111111, 0.22222222, 0.33333333, 0.44444444,\n",
       "       0.55555556, 0.66666667, 0.77777778, 0.88888889, 1.        ])"
      ]
     },
     "execution_count": 95,
     "metadata": {},
     "output_type": "execute_result"
    }
   ],
   "source": [
    "np.linspace(0, 1, 10)\n"
   ]
  },
  {
   "cell_type": "code",
   "execution_count": 96,
   "metadata": {},
   "outputs": [
    {
     "name": "stdout",
     "output_type": "stream",
     "text": [
      "[0. 1. 2. 3. 4.]\n",
      "[5. 6. 7. 8. 9.]\n"
     ]
    }
   ],
   "source": [
    "vec = [2, 3]\n",
    "vec_x = np.linspace(0, 4, 5)\n",
    "vec_y = np.linspace(5, 9, 5)\n",
    "print vec_x\n",
    "print vec_y"
   ]
  },
  {
   "cell_type": "code",
   "execution_count": 98,
   "metadata": {},
   "outputs": [
    {
     "name": "stdout",
     "output_type": "stream",
     "text": [
      "[15. 20. 25. 30. 35.]\n"
     ]
    }
   ],
   "source": [
    "score_midpts = np.multiply(vec_x, vec[0]) + np.multiply(vec_y, vec[1])\n",
    "print score_midpts"
   ]
  },
  {
   "cell_type": "code",
   "execution_count": 112,
   "metadata": {},
   "outputs": [
    {
     "data": {
      "text/plain": [
       "array([2, 3, 4])"
      ]
     },
     "execution_count": 112,
     "metadata": {},
     "output_type": "execute_result"
    }
   ],
   "source": [
    "np.nonzero(score_midpts > 20)[0]\n"
   ]
  },
  {
   "cell_type": "code",
   "execution_count": 101,
   "metadata": {},
   "outputs": [
    {
     "data": {
      "text/plain": [
       "array([], shape=(0, 5), dtype=float64)"
      ]
     },
     "execution_count": 101,
     "metadata": {},
     "output_type": "execute_result"
    }
   ],
   "source": [
    "np.zeros((0, 5))"
   ]
  },
  {
   "cell_type": "code",
   "execution_count": 102,
   "metadata": {},
   "outputs": [
    {
     "data": {
      "text/plain": [
       "array([[1, 2, 3],\n",
       "       [2, 3, 4]])"
      ]
     },
     "execution_count": 102,
     "metadata": {},
     "output_type": "execute_result"
    }
   ],
   "source": [
    "a = np.array([1, 2, 3])\n",
    "b = np.array([2, 3, 4])\n",
    "np.vstack((a, b)) # vector stack 向量拼接（沿行拼接）\n"
   ]
  },
  {
   "cell_type": "code",
   "execution_count": 103,
   "metadata": {},
   "outputs": [
    {
     "data": {
      "text/plain": [
       "array([[1],\n",
       "       [2],\n",
       "       [3],\n",
       "       [2],\n",
       "       [3],\n",
       "       [4]])"
      ]
     },
     "execution_count": 103,
     "metadata": {},
     "output_type": "execute_result"
    }
   ],
   "source": [
    "a = np.array([[1], [2], [3]])\n",
    "b = np.array([[2], [3], [4]])\n",
    "np.vstack((a,b))"
   ]
  },
  {
   "cell_type": "code",
   "execution_count": 105,
   "metadata": {},
   "outputs": [
    {
     "name": "stdout",
     "output_type": "stream",
     "text": [
      "[[2, 3], [2, 6], [3, 4], [4, 5], [6, 7], [7, 8], [2, 9], [9, 10], [10, 11], [2, 12], [12, 13], [13, 14], [2, 1], [1, 15], [15, 17], [1, 16], [16, 18], [3, 17], [6, 18]]\n"
     ]
    }
   ],
   "source": [
    "limbSeq = [[2,3], [2,6], [3,4], [4,5], [6,7], [7,8], [2,9], [9,10],\n",
    "           [10,11], [2,12], [12,13], [13,14], [2,1], [1,15], [15,17],\n",
    "           [1,16], [16,18], [3,17], [6,18]]\n",
    "print limbSeq"
   ]
  },
  {
   "cell_type": "code",
   "execution_count": null,
   "metadata": {},
   "outputs": [
    {
     "name": "stdout",
     "output_type": "stream",
     "text": [
      "0\n"
     ]
    }
   ],
   "source": [
    "-1 * np.ones((0, 20))\n"
   ]
  },
  {
   "cell_type": "code",
   "execution_count": 113,
   "metadata": {},
   "outputs": [
    {
     "name": "stdout",
     "output_type": "stream",
     "text": [
      "0\n"
     ]
    }
   ],
   "source": [
    "subset = -1 * np.ones((0, 20)) # 指定了 列数\n",
    "print len(subset)\n"
   ]
  },
  {
   "cell_type": "code",
   "execution_count": 107,
   "metadata": {},
   "outputs": [
    {
     "data": {
      "text/plain": [
       "array([1, 2])"
      ]
     },
     "execution_count": 107,
     "metadata": {},
     "output_type": "execute_result"
    }
   ],
   "source": [
    "np.array(limbSeq[0]) - 1"
   ]
  },
  {
   "cell_type": "code",
   "execution_count": null,
   "metadata": {},
   "outputs": [
    {
     "data": {
      "text/plain": [
       "array([0.92575337, 0.89376497])"
      ]
     },
     "execution_count": 119,
     "metadata": {},
     "output_type": "execute_result"
    }
   ],
   "source": [
    "a = np.array([[9., 14., 1.01905409, 4., 4.],\n",
    "              [5., 10., 0.97120561, 0., 0.],\n",
    "              [8., 13., 0.97039121, 3., 3.],\n",
    "              [6., 11., 0.94356393, 1., 1.],\n",
    "              [7., 12., 0.84906807, 2., 2.]])\n",
    "print a[:, 0]\n"
   ]
  },
  {
   "cell_type": "code",
   "execution_count": 117,
   "metadata": {},
   "outputs": [
    {
     "data": {
      "text/plain": [
       "array([0.92575337, 0.89376497])"
      ]
     },
     "execution_count": 119,
     "metadata": {},
     "output_type": "execute_result"
    }
   ],
   "source": [
    "a[0, :2]\n"
   ]
  },
  {
   "cell_type": "code",
   "execution_count": 118,
   "metadata": {},
   "outputs": [
    {
     "data": {
      "text/plain": [
       "array([0.92575337, 0.89376497])"
      ]
     },
     "execution_count": 119,
     "metadata": {},
     "output_type": "execute_result"
    }
   ],
   "source": [
    "a[0, :2].astype(int)\n"
   ]
  },
  {
   "cell_type": "code",
   "execution_count": 119,
   "metadata": {},
   "outputs": [
    {
     "data": {
      "text/plain": [
       "array([0.92575337, 0.89376497])"
      ]
     },
     "execution_count": 119,
     "metadata": {},
     "output_type": "execute_result"
    }
   ],
   "source": [
    "candidate = np.array([\n",
    "    [616., 44., 0.93284178, 0.],\n",
    "    [303., 78., 0.93909413, 1.],\n",
    "    [481., 98., 0.91266659, 2.],\n",
    "    [68., 268., 0.93644108, 3.],\n",
    "    [173., 280., 0.95333733, 4.],\n",
    "    [614., 83., 0.88962355, 5.],\n",
    "    [306., 113., 0.92372707, 6.],\n",
    "    [458., 143., 0.79439934, 7.],\n",
    "    [66., 302., 0.8776309, 8.],\n",
    "    [170., 304., 0.92575337, 9.],\n",
    "    [584., 89., 0.81850672, 10.],\n",
    "    [272., 117., 0.8964787, 11.],\n",
    "    [416., 146., 0.64719772, 12.],\n",
    "    [39., 303., 0.86985824, 13.],\n",
    "    [139., 304., 0.89376497, 14.],\n",
    "    [545., 131., 0.92060222, 15.],\n",
    "])\n",
    "\n",
    "candidate[[9, 14], 2]\n"
   ]
  },
  {
   "cell_type": "code",
   "execution_count": 114,
   "metadata": {},
   "outputs": [
    {
     "name": "stdout",
     "output_type": "stream",
     "text": [
      "[-1. -1. -1. -1. -1. -1. -1. -1. -1. -1. -1. -1. -1. -1. -1. -1. -1. -1.\n",
      " -1. -1.]\n"
     ]
    }
   ],
   "source": [
    "row = -1 * np.ones(20)\n",
    "print row"
   ]
  },
  {
   "cell_type": "code",
   "execution_count": 120,
   "metadata": {},
   "outputs": [
    {
     "data": {
      "text/plain": [
       "2.0"
      ]
     },
     "execution_count": 120,
     "metadata": {},
     "output_type": "execute_result"
    }
   ],
   "source": [
    "np.mean([1, 2, 3])  # 平均数\n"
   ]
  },
  {
   "cell_type": "code",
   "execution_count": 16,
   "metadata": {},
   "outputs": [
    {
     "data": {
      "text/plain": [
       "array([[1, 1, 0],\n",
       "       [0, 0, 1]])"
      ]
     },
     "execution_count": 16,
     "metadata": {},
     "output_type": "execute_result"
    }
   ],
   "source": [
    "peaks_binary = np.array([\n",
    "    [1, 1, 0],\n",
    "    [0, 0, 1]\n",
    "])\n",
    "peaks_binary"
   ]
  },
  {
   "cell_type": "code",
   "execution_count": 18,
   "metadata": {},
   "outputs": [
    {
     "data": {
      "text/plain": [
       "(array([0, 0, 1]), array([0, 1, 2]))"
      ]
     },
     "execution_count": 18,
     "metadata": {},
     "output_type": "execute_result"
    }
   ],
   "source": [
    "np.nonzero(peaks_binary)\n"
   ]
  },
  {
   "cell_type": "code",
   "execution_count": 13,
   "metadata": {},
   "outputs": [
    {
     "data": {
      "text/plain": [
       "(array([0, 0, 1]), array([0, 1, 2]))"
      ]
     },
     "execution_count": 18,
     "metadata": {},
     "output_type": "execute_result"
    }
   ],
   "source": [
    "np.nonzero(peaks_binary)[0] # 非0行\n"
   ]
  },
  {
   "cell_type": "code",
   "execution_count": 17,
   "metadata": {},
   "outputs": [
    {
     "data": {
      "text/plain": [
       "(array([0, 0, 1]), array([0, 1, 2]))"
      ]
     },
     "execution_count": 18,
     "metadata": {},
     "output_type": "execute_result"
    }
   ],
   "source": [
    "zip(np.nonzero(peaks_binary)[0], np.nonzero(peaks_binary)[1])\n"
   ]
  },
  {
   "cell_type": "code",
   "execution_count": 85,
   "metadata": {},
   "outputs": [
    {
     "name": "stdout",
     "output_type": "stream",
     "text": [
      "[ 70.  80.  82.  72.  58.  58.  60.  63.  54.  58.  60.  48.  89. 115.\n",
      " 121. 119. 115.]\n"
     ]
    }
   ],
   "source": [
    "s = '70 80 82 72 58 58 60 63 54 58 60 48 89 115 121 119 115'\n",
    "a = np.fromstring(s, dtype=float, sep=' ')\n",
    "print(a)"
   ]
  },
  {
   "cell_type": "code",
   "execution_count": 5,
   "metadata": {},
   "outputs": [
    {
     "data": {
      "text/plain": [
       "121.0"
      ]
     },
     "execution_count": 5,
     "metadata": {},
     "output_type": "execute_result"
    }
   ],
   "source": [
    "a.max()"
   ]
  },
  {
   "cell_type": "code",
   "execution_count": null,
   "metadata": {},
   "outputs": [],
   "source": []
  }
 ],
 "metadata": {
  "kernelspec": {
   "display_name": "Python 3.6.7 64-bit ('al': conda)",
   "language": "python",
   "name": "python36764bitalconda1fcbeaae83f34a92837eba830fb97ca4"
  },
  "language_info": {
   "codemirror_mode": {
    "name": "ipython",
    "version": 3
   },
   "file_extension": ".py",
   "mimetype": "text/x-python",
   "name": "python",
   "nbconvert_exporter": "python",
   "pygments_lexer": "ipython3",
   "version": "3.6.7-final"
  },
  "toc": {
   "base_numbering": 1,
   "nav_menu": {},
   "number_sections": true,
   "sideBar": true,
   "skip_h1_title": false,
   "title_cell": "Table of Contents",
   "title_sidebar": "Contents",
   "toc_cell": false,
   "toc_position": {},
   "toc_section_display": true,
   "toc_window_display": false
  },
  "varInspector": {
   "cols": {
    "lenName": 16,
    "lenType": 16,
    "lenVar": 40
   },
   "kernels_config": {
    "python": {
     "delete_cmd_postfix": "",
     "delete_cmd_prefix": "del ",
     "library": "var_list.py",
     "varRefreshCmd": "print(var_dic_list())"
    },
    "r": {
     "delete_cmd_postfix": ") ",
     "delete_cmd_prefix": "rm(",
     "library": "var_list.r",
     "varRefreshCmd": "cat(var_dic_list()) "
    }
   },
   "types_to_exclude": [
    "module",
    "function",
    "builtin_function_or_method",
    "instance",
    "_Feature"
   ],
   "window_display": false
  }
 },
 "nbformat": 4,
 "nbformat_minor": 2
}