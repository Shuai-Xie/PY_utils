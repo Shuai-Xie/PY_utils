{
 "cells": [
  {
   "cell_type": "code",
   "execution_count": 1,
   "metadata": {
    "ExecuteTime": {
     "end_time": "2020-10-28T03:34:42.439844Z",
     "start_time": "2020-10-28T03:34:41.890870Z"
    }
   },
   "outputs": [],
   "source": [
    "import numba as nb\n",
    "import numpy as np\n",
    "\n",
    "@nb.jit()\n",
    "def nb_sum(a):\n",
    "    Sum = 0\n",
    "    for i in range(len(a)):\n",
    "        Sum += a[i]\n",
    "    return Sum\n",
    "\n",
    "# 没用numba加速的求和函数\n",
    "def py_sum(a):\n",
    "    Sum = 0\n",
    "    for i in range(len(a)):\n",
    "        Sum += a[i]\n",
    "    return Sum"
   ]
  },
  {
   "cell_type": "code",
   "execution_count": 2,
   "metadata": {
    "ExecuteTime": {
     "end_time": "2020-10-28T03:36:00.309059Z",
     "start_time": "2020-10-28T03:35:35.273215Z"
    }
   },
   "outputs": [
    {
     "name": "stdout",
     "output_type": "stream",
     "text": [
      "3.28 µs ± 206 ns per loop (mean ± std. dev. of 7 runs, 100000 loops each)\n",
      "9.88 µs ± 378 ns per loop (mean ± std. dev. of 7 runs, 100000 loops each)\n",
      "The slowest run took 5.93 times longer than the fastest. This could mean that an intermediate result is being cached.\n",
      "2.03 µs ± 1.89 µs per loop (mean ± std. dev. of 7 runs, 1 loop each)\n",
      "17.1 µs ± 1.03 µs per loop (mean ± std. dev. of 7 runs, 100000 loops each)\n"
     ]
    }
   ],
   "source": [
    "a = np.linspace(0,100,100) # 创建一个长度为100的数组\n",
    "\n",
    "%timeit np.sum(a) # numpy自带的求和函数\n",
    "%timeit sum(a)  # python自带的求和函数\n",
    "%timeit nb_sum(a) # numba加速的求和函数\n",
    "%timeit py_sum(a) # 没加速的求和函数"
   ]
  },
  {
   "cell_type": "code",
   "execution_count": null,
   "metadata": {},
   "outputs": [],
   "source": []
  }
 ],
 "metadata": {
  "kernelspec": {
   "display_name": "Python 3",
   "language": "python",
   "name": "python3"
  },
  "language_info": {
   "codemirror_mode": {
    "name": "ipython",
    "version": 3
   },
   "file_extension": ".py",
   "mimetype": "text/x-python",
   "name": "python",
   "nbconvert_exporter": "python",
   "pygments_lexer": "ipython3",
   "version": "3.6.7"
  },
  "toc": {
   "base_numbering": 1,
   "nav_menu": {},
   "number_sections": true,
   "sideBar": true,
   "skip_h1_title": false,
   "title_cell": "Table of Contents",
   "title_sidebar": "Contents",
   "toc_cell": false,
   "toc_position": {},
   "toc_section_display": true,
   "toc_window_display": false
  },
  "varInspector": {
   "cols": {
    "lenName": 16,
    "lenType": 16,
    "lenVar": 40
   },
   "kernels_config": {
    "python": {
     "delete_cmd_postfix": "",
     "delete_cmd_prefix": "del ",
     "library": "var_list.py",
     "varRefreshCmd": "print(var_dic_list())"
    },
    "r": {
     "delete_cmd_postfix": ") ",
     "delete_cmd_prefix": "rm(",
     "library": "var_list.r",
     "varRefreshCmd": "cat(var_dic_list()) "
    }
   },
   "types_to_exclude": [
    "module",
    "function",
    "builtin_function_or_method",
    "instance",
    "_Feature"
   ],
   "window_display": false
  }
 },
 "nbformat": 4,
 "nbformat_minor": 4
}
